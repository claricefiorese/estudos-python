{
  "nbformat": 4,
  "nbformat_minor": 0,
  "metadata": {
    "colab": {
      "name": "Estudo-Demanda-Walmart.ipynb",
      "provenance": [],
      "mount_file_id": "1JW9TkzFn7rCH4NxeyAloUfPAEe-xyL1B",
      "authorship_tag": "ABX9TyPZrsP+2PdRrXQ0senMVmIA"
    },
    "kernelspec": {
      "name": "python3",
      "display_name": "Python 3"
    },
    "language_info": {
      "name": "python"
    }
  },
  "cells": [
    {
      "cell_type": "markdown",
      "metadata": {
        "id": "F4o_F96j9xAv"
      },
      "source": [
        "O conjunto de dados envolve vendas unitárias de 3049 produtos e é classificado em 3 categorias de produtos (Hobbies, Alimentos e Doméstico) e 7 departamentos. \n",
        "\n",
        "Os produtos são vendidos em 10 lojas localizadas em 3 estados (CA, TX e WI). \n",
        "\n",
        "Os dados vão de 2011-01-29 a 2016-06-19.\n",
        "\n",
        "Os produtos têm no máximo 1941 dias ou 5,4 anos de dados disponíveis. (O conjunto de dados de teste de 28 dias não está incluído)\n",
        "\n",
        "O conjunto de dados está dividido em dados de calendário, dados de preço e dados de vendas.\n",
        "\n",
        "- Dados de calendário: contém colunas, como data, dia da semana, mês, ano e Snap-Days para os estados TX, CA e WI. Além disso, a tabela contém informações sobre feriados e eventos especiais (como Superbowl) por meio de suas colunas event_type1 e event_type2. Os feriados/eventos especiais são divididos em culturais, nacionais, religiosos e esportivos.\n",
        "\n",
        "- Dados de preço: a tabela consiste nas colunas - loja, item, semana e preço. Ela fornece informações sobre o preço de um item em uma determinada loja, em uma determinada semana.\n",
        "\n",
        "- Dados de vendas: consiste em arquivos de validação e avaliação. O arquivo de avaliação consiste em vendas por 28 dias extras que podem ser usados ​​para avaliação do modelo. A tabela fornece informações sobre a quantidade vendida de um determinado item em um determinado departamento, em um determinado estado e loja."
      ]
    },
    {
      "cell_type": "code",
      "metadata": {
        "colab": {
          "base_uri": "https://localhost:8080/"
        },
        "id": "OLQIZfayOTqr",
        "outputId": "de57f737-eaa5-4ff8-9ab5-478ae8712f53"
      },
      "source": [
        "!pip install cufflinks"
      ],
      "execution_count": null,
      "outputs": [
        {
          "output_type": "stream",
          "text": [
            "Requirement already satisfied: cufflinks in /usr/local/lib/python3.7/dist-packages (0.17.3)\n",
            "Requirement already satisfied: numpy>=1.9.2 in /usr/local/lib/python3.7/dist-packages (from cufflinks) (1.19.5)\n",
            "Requirement already satisfied: six>=1.9.0 in /usr/local/lib/python3.7/dist-packages (from cufflinks) (1.15.0)\n",
            "Requirement already satisfied: plotly>=4.1.1 in /usr/local/lib/python3.7/dist-packages (from cufflinks) (4.4.1)\n",
            "Requirement already satisfied: pandas>=0.19.2 in /usr/local/lib/python3.7/dist-packages (from cufflinks) (1.1.5)\n",
            "Requirement already satisfied: ipywidgets>=7.0.0 in /usr/local/lib/python3.7/dist-packages (from cufflinks) (7.6.3)\n",
            "Requirement already satisfied: colorlover>=0.2.1 in /usr/local/lib/python3.7/dist-packages (from cufflinks) (0.3.0)\n",
            "Requirement already satisfied: ipython>=5.3.0 in /usr/local/lib/python3.7/dist-packages (from cufflinks) (5.5.0)\n",
            "Requirement already satisfied: setuptools>=34.4.1 in /usr/local/lib/python3.7/dist-packages (from cufflinks) (57.2.0)\n",
            "Requirement already satisfied: pickleshare in /usr/local/lib/python3.7/dist-packages (from ipython>=5.3.0->cufflinks) (0.7.5)\n",
            "Requirement already satisfied: decorator in /usr/local/lib/python3.7/dist-packages (from ipython>=5.3.0->cufflinks) (4.4.2)\n",
            "Requirement already satisfied: pexpect in /usr/local/lib/python3.7/dist-packages (from ipython>=5.3.0->cufflinks) (4.8.0)\n",
            "Requirement already satisfied: pygments in /usr/local/lib/python3.7/dist-packages (from ipython>=5.3.0->cufflinks) (2.6.1)\n",
            "Requirement already satisfied: simplegeneric>0.8 in /usr/local/lib/python3.7/dist-packages (from ipython>=5.3.0->cufflinks) (0.8.1)\n",
            "Requirement already satisfied: prompt-toolkit<2.0.0,>=1.0.4 in /usr/local/lib/python3.7/dist-packages (from ipython>=5.3.0->cufflinks) (1.0.18)\n",
            "Requirement already satisfied: traitlets>=4.2 in /usr/local/lib/python3.7/dist-packages (from ipython>=5.3.0->cufflinks) (5.0.5)\n",
            "Requirement already satisfied: jupyterlab-widgets>=1.0.0 in /usr/local/lib/python3.7/dist-packages (from ipywidgets>=7.0.0->cufflinks) (1.0.0)\n",
            "Requirement already satisfied: widgetsnbextension~=3.5.0 in /usr/local/lib/python3.7/dist-packages (from ipywidgets>=7.0.0->cufflinks) (3.5.1)\n",
            "Requirement already satisfied: nbformat>=4.2.0 in /usr/local/lib/python3.7/dist-packages (from ipywidgets>=7.0.0->cufflinks) (5.1.3)\n",
            "Requirement already satisfied: ipykernel>=4.5.1 in /usr/local/lib/python3.7/dist-packages (from ipywidgets>=7.0.0->cufflinks) (4.10.1)\n",
            "Requirement already satisfied: tornado>=4.0 in /usr/local/lib/python3.7/dist-packages (from ipykernel>=4.5.1->ipywidgets>=7.0.0->cufflinks) (5.1.1)\n",
            "Requirement already satisfied: jupyter-client in /usr/local/lib/python3.7/dist-packages (from ipykernel>=4.5.1->ipywidgets>=7.0.0->cufflinks) (5.3.5)\n",
            "Requirement already satisfied: jsonschema!=2.5.0,>=2.4 in /usr/local/lib/python3.7/dist-packages (from nbformat>=4.2.0->ipywidgets>=7.0.0->cufflinks) (2.6.0)\n",
            "Requirement already satisfied: jupyter-core in /usr/local/lib/python3.7/dist-packages (from nbformat>=4.2.0->ipywidgets>=7.0.0->cufflinks) (4.7.1)\n",
            "Requirement already satisfied: ipython-genutils in /usr/local/lib/python3.7/dist-packages (from nbformat>=4.2.0->ipywidgets>=7.0.0->cufflinks) (0.2.0)\n",
            "Requirement already satisfied: pytz>=2017.2 in /usr/local/lib/python3.7/dist-packages (from pandas>=0.19.2->cufflinks) (2018.9)\n",
            "Requirement already satisfied: python-dateutil>=2.7.3 in /usr/local/lib/python3.7/dist-packages (from pandas>=0.19.2->cufflinks) (2.8.1)\n",
            "Requirement already satisfied: retrying>=1.3.3 in /usr/local/lib/python3.7/dist-packages (from plotly>=4.1.1->cufflinks) (1.3.3)\n",
            "Requirement already satisfied: wcwidth in /usr/local/lib/python3.7/dist-packages (from prompt-toolkit<2.0.0,>=1.0.4->ipython>=5.3.0->cufflinks) (0.2.5)\n",
            "Requirement already satisfied: notebook>=4.4.1 in /usr/local/lib/python3.7/dist-packages (from widgetsnbextension~=3.5.0->ipywidgets>=7.0.0->cufflinks) (5.3.1)\n",
            "Requirement already satisfied: terminado>=0.8.1 in /usr/local/lib/python3.7/dist-packages (from notebook>=4.4.1->widgetsnbextension~=3.5.0->ipywidgets>=7.0.0->cufflinks) (0.10.1)\n",
            "Requirement already satisfied: nbconvert in /usr/local/lib/python3.7/dist-packages (from notebook>=4.4.1->widgetsnbextension~=3.5.0->ipywidgets>=7.0.0->cufflinks) (5.6.1)\n",
            "Requirement already satisfied: jinja2 in /usr/local/lib/python3.7/dist-packages (from notebook>=4.4.1->widgetsnbextension~=3.5.0->ipywidgets>=7.0.0->cufflinks) (2.11.3)\n",
            "Requirement already satisfied: Send2Trash in /usr/local/lib/python3.7/dist-packages (from notebook>=4.4.1->widgetsnbextension~=3.5.0->ipywidgets>=7.0.0->cufflinks) (1.7.1)\n",
            "Requirement already satisfied: pyzmq>=13 in /usr/local/lib/python3.7/dist-packages (from jupyter-client->ipykernel>=4.5.1->ipywidgets>=7.0.0->cufflinks) (22.1.0)\n",
            "Requirement already satisfied: ptyprocess in /usr/local/lib/python3.7/dist-packages (from terminado>=0.8.1->notebook>=4.4.1->widgetsnbextension~=3.5.0->ipywidgets>=7.0.0->cufflinks) (0.7.0)\n",
            "Requirement already satisfied: MarkupSafe>=0.23 in /usr/local/lib/python3.7/dist-packages (from jinja2->notebook>=4.4.1->widgetsnbextension~=3.5.0->ipywidgets>=7.0.0->cufflinks) (2.0.1)\n",
            "Requirement already satisfied: defusedxml in /usr/local/lib/python3.7/dist-packages (from nbconvert->notebook>=4.4.1->widgetsnbextension~=3.5.0->ipywidgets>=7.0.0->cufflinks) (0.7.1)\n",
            "Requirement already satisfied: testpath in /usr/local/lib/python3.7/dist-packages (from nbconvert->notebook>=4.4.1->widgetsnbextension~=3.5.0->ipywidgets>=7.0.0->cufflinks) (0.5.0)\n",
            "Requirement already satisfied: bleach in /usr/local/lib/python3.7/dist-packages (from nbconvert->notebook>=4.4.1->widgetsnbextension~=3.5.0->ipywidgets>=7.0.0->cufflinks) (3.3.0)\n",
            "Requirement already satisfied: mistune<2,>=0.8.1 in /usr/local/lib/python3.7/dist-packages (from nbconvert->notebook>=4.4.1->widgetsnbextension~=3.5.0->ipywidgets>=7.0.0->cufflinks) (0.8.4)\n",
            "Requirement already satisfied: entrypoints>=0.2.2 in /usr/local/lib/python3.7/dist-packages (from nbconvert->notebook>=4.4.1->widgetsnbextension~=3.5.0->ipywidgets>=7.0.0->cufflinks) (0.3)\n",
            "Requirement already satisfied: pandocfilters>=1.4.1 in /usr/local/lib/python3.7/dist-packages (from nbconvert->notebook>=4.4.1->widgetsnbextension~=3.5.0->ipywidgets>=7.0.0->cufflinks) (1.4.3)\n",
            "Requirement already satisfied: packaging in /usr/local/lib/python3.7/dist-packages (from bleach->nbconvert->notebook>=4.4.1->widgetsnbextension~=3.5.0->ipywidgets>=7.0.0->cufflinks) (21.0)\n",
            "Requirement already satisfied: webencodings in /usr/local/lib/python3.7/dist-packages (from bleach->nbconvert->notebook>=4.4.1->widgetsnbextension~=3.5.0->ipywidgets>=7.0.0->cufflinks) (0.5.1)\n",
            "Requirement already satisfied: pyparsing>=2.0.2 in /usr/local/lib/python3.7/dist-packages (from packaging->bleach->nbconvert->notebook>=4.4.1->widgetsnbextension~=3.5.0->ipywidgets>=7.0.0->cufflinks) (2.4.7)\n"
          ],
          "name": "stdout"
        }
      ]
    },
    {
      "cell_type": "code",
      "metadata": {
        "colab": {
          "base_uri": "https://localhost:8080/",
          "height": 90
        },
        "id": "M9aDDm2yJPZf",
        "outputId": "bc1d5803-2854-4855-bed6-6a019e5a561a"
      },
      "source": [
        "import numpy                           as np \n",
        "import pandas                          as pd \n",
        "\n",
        "import os\n",
        "import datetime \n",
        "import math \n",
        "from IPython.display                   import display, HTML\n",
        "\n",
        "import plotly                          as py\n",
        "import plotly.graph_objs               as go\n",
        "import plotly\n",
        "from plotly.offline                    import download_plotlyjs, init_notebook_mode, plot, iplot\n",
        "import cufflinks                       as cf\n",
        "cf.set_config_file(offline=True)\n",
        "init_notebook_mode(connected=True)\n",
        "\n",
        "import matplotlib\n",
        "import matplotlib.pyplot               as plt\n",
        "import seaborn                         as sns\n",
        "\n",
        "from matplotlib                        import pyplot\n",
        "from statsmodels.tsa.seasonal          import seasonal_decompose\n",
        "\n",
        "import warnings\n",
        "warnings.filterwarnings('ignore')\n",
        "\n",
        "plt.style.use('ggplot')\n",
        "sns.set(font_scale=1.1)\n",
        "\n",
        "pd.options.display.float_format = '{:.2f}'.format"
      ],
      "execution_count": null,
      "outputs": [
        {
          "output_type": "display_data",
          "data": {
            "text/html": [
              "        <script type=\"text/javascript\">\n",
              "        window.PlotlyConfig = {MathJaxConfig: 'local'};\n",
              "        if (window.MathJax) {MathJax.Hub.Config({SVG: {font: \"STIX-Web\"}});}\n",
              "        if (typeof require !== 'undefined') {\n",
              "        require.undef(\"plotly\");\n",
              "        requirejs.config({\n",
              "            paths: {\n",
              "                'plotly': ['https://cdn.plot.ly/plotly-latest.min']\n",
              "            }\n",
              "        });\n",
              "        require(['plotly'], function(Plotly) {\n",
              "            window._Plotly = Plotly;\n",
              "        });\n",
              "        }\n",
              "        </script>\n",
              "        "
            ]
          },
          "metadata": {
            "tags": []
          }
        },
        {
          "output_type": "display_data",
          "data": {
            "text/html": [
              "        <script type=\"text/javascript\">\n",
              "        window.PlotlyConfig = {MathJaxConfig: 'local'};\n",
              "        if (window.MathJax) {MathJax.Hub.Config({SVG: {font: \"STIX-Web\"}});}\n",
              "        if (typeof require !== 'undefined') {\n",
              "        require.undef(\"plotly\");\n",
              "        requirejs.config({\n",
              "            paths: {\n",
              "                'plotly': ['https://cdn.plot.ly/plotly-latest.min']\n",
              "            }\n",
              "        });\n",
              "        require(['plotly'], function(Plotly) {\n",
              "            window._Plotly = Plotly;\n",
              "        });\n",
              "        }\n",
              "        </script>\n",
              "        "
            ]
          },
          "metadata": {
            "tags": []
          }
        },
        {
          "output_type": "display_data",
          "data": {
            "text/html": [
              "        <script type=\"text/javascript\">\n",
              "        window.PlotlyConfig = {MathJaxConfig: 'local'};\n",
              "        if (window.MathJax) {MathJax.Hub.Config({SVG: {font: \"STIX-Web\"}});}\n",
              "        if (typeof require !== 'undefined') {\n",
              "        require.undef(\"plotly\");\n",
              "        requirejs.config({\n",
              "            paths: {\n",
              "                'plotly': ['https://cdn.plot.ly/plotly-latest.min']\n",
              "            }\n",
              "        });\n",
              "        require(['plotly'], function(Plotly) {\n",
              "            window._Plotly = Plotly;\n",
              "        });\n",
              "        }\n",
              "        </script>\n",
              "        "
            ]
          },
          "metadata": {
            "tags": []
          }
        },
        {
          "output_type": "stream",
          "text": [
            "/usr/local/lib/python3.7/dist-packages/statsmodels/tools/_testing.py:19: FutureWarning:\n",
            "\n",
            "pandas.util.testing is deprecated. Use the functions in the public API at pandas.testing instead.\n",
            "\n"
          ],
          "name": "stderr"
        }
      ]
    },
    {
      "cell_type": "code",
      "metadata": {
        "id": "2PNqXvNiqeIL"
      },
      "source": [
        "def anotacao(grafico):\n",
        "  for p in ax.patches:\n",
        "    ax.annotate(format(p.get_height(), '.0f'), (p.get_x() + p.get_width() / 2., p.get_height()), ha = 'center', va = 'center', xytext = (0, 10), \n",
        "                textcoords = 'offset points')"
      ],
      "execution_count": null,
      "outputs": []
    },
    {
      "cell_type": "code",
      "metadata": {
        "colab": {
          "base_uri": "https://localhost:8080/"
        },
        "id": "pAdrkhIQJ2s8",
        "outputId": "d0563f26-db38-4a12-ac52-45e256427847"
      },
      "source": [
        "for dirname, _, filenames in os.walk('/content/drive/MyDrive/kaggle'):\n",
        "    for filename in filenames:\n",
        "        print(os.path.join(dirname, filename))"
      ],
      "execution_count": null,
      "outputs": [
        {
          "output_type": "stream",
          "text": [
            "/content/drive/MyDrive/kaggle/calendar.csv\n",
            "/content/drive/MyDrive/kaggle/sales_train_evaluation.csv\n",
            "/content/drive/MyDrive/kaggle/sales_train_validation.csv\n",
            "/content/drive/MyDrive/kaggle/sample_submission.csv\n",
            "/content/drive/MyDrive/kaggle/sell_prices.csv\n"
          ],
          "name": "stdout"
        }
      ]
    },
    {
      "cell_type": "code",
      "metadata": {
        "id": "3jhm_2qpf5ai"
      },
      "source": [
        "sales_data = pd.read_csv(\"/content/drive/MyDrive/kaggle/sales_train_validation.csv\")\n",
        "price_data = pd.read_csv(\"/content/drive/MyDrive/kaggle/sell_prices.csv\")\n",
        "calendar_data = pd.read_csv(\"/content/drive/MyDrive/kaggle/calendar.csv\")\n",
        "submission_data = pd.read_csv(\"/content/drive/MyDrive/kaggle/sample_submission.csv\")"
      ],
      "execution_count": null,
      "outputs": []
    },
    {
      "cell_type": "code",
      "metadata": {
        "colab": {
          "base_uri": "https://localhost:8080/"
        },
        "id": "5vXCHr6Zip4J",
        "outputId": "149d0793-cf97-490f-bbb4-da0addbac82b"
      },
      "source": [
        "print(f\"O DataFrame sales_data tem {sales_data.shape[0]} linhas e {sales_data.shape[1]} colunas\")"
      ],
      "execution_count": null,
      "outputs": [
        {
          "output_type": "stream",
          "text": [
            "O DataFrame sales_data tem 30490 linhas e 1919 colunas\n"
          ],
          "name": "stdout"
        }
      ]
    },
    {
      "cell_type": "code",
      "metadata": {
        "colab": {
          "base_uri": "https://localhost:8080/"
        },
        "id": "jR-SoVNXja_s",
        "outputId": "d32831f5-d9cc-493a-8782-d685e22ba4d4"
      },
      "source": [
        "date_col = [col for col in sales_data if col.startswith('d_')]\n",
        "date_col[:5]"
      ],
      "execution_count": null,
      "outputs": [
        {
          "output_type": "execute_result",
          "data": {
            "text/plain": [
              "['d_1', 'd_2', 'd_3', 'd_4', 'd_5']"
            ]
          },
          "metadata": {
            "tags": []
          },
          "execution_count": 7
        }
      ]
    },
    {
      "cell_type": "code",
      "metadata": {
        "colab": {
          "base_uri": "https://localhost:8080/"
        },
        "id": "LnDSbyMxkTCj",
        "outputId": "f00bb9c9-a207-44e2-efb2-179bfc1bac32"
      },
      "source": [
        "sales_data['state_id'].value_counts(normalize=True)"
      ],
      "execution_count": null,
      "outputs": [
        {
          "output_type": "execute_result",
          "data": {
            "text/plain": [
              "CA   0.40\n",
              "WI   0.30\n",
              "TX   0.30\n",
              "Name: state_id, dtype: float64"
            ]
          },
          "metadata": {
            "tags": []
          },
          "execution_count": 8
        }
      ]
    },
    {
      "cell_type": "code",
      "metadata": {
        "colab": {
          "base_uri": "https://localhost:8080/"
        },
        "id": "9BMWH7RioV0I",
        "outputId": "07f84bed-5f3a-4827-a73d-094f20f444d1"
      },
      "source": [
        "sales_data['store_id'].value_counts()"
      ],
      "execution_count": null,
      "outputs": [
        {
          "output_type": "execute_result",
          "data": {
            "text/plain": [
              "TX_2    3049\n",
              "WI_3    3049\n",
              "CA_1    3049\n",
              "WI_1    3049\n",
              "TX_1    3049\n",
              "CA_4    3049\n",
              "WI_2    3049\n",
              "TX_3    3049\n",
              "CA_2    3049\n",
              "CA_3    3049\n",
              "Name: store_id, dtype: int64"
            ]
          },
          "metadata": {
            "tags": []
          },
          "execution_count": 9
        }
      ]
    },
    {
      "cell_type": "code",
      "metadata": {
        "colab": {
          "base_uri": "https://localhost:8080/"
        },
        "id": "CzQz_tPhlee2",
        "outputId": "20e75417-e0a9-42b5-b315-6bcaa79fc00e"
      },
      "source": [
        "sales_data['dept_id'].value_counts(normalize=True)"
      ],
      "execution_count": null,
      "outputs": [
        {
          "output_type": "execute_result",
          "data": {
            "text/plain": [
              "FOODS_3       0.27\n",
              "HOUSEHOLD_1   0.17\n",
              "HOUSEHOLD_2   0.17\n",
              "HOBBIES_1     0.14\n",
              "FOODS_2       0.13\n",
              "FOODS_1       0.07\n",
              "HOBBIES_2     0.05\n",
              "Name: dept_id, dtype: float64"
            ]
          },
          "metadata": {
            "tags": []
          },
          "execution_count": 10
        }
      ]
    },
    {
      "cell_type": "code",
      "metadata": {
        "colab": {
          "base_uri": "https://localhost:8080/"
        },
        "id": "pJb3LhXgl1iM",
        "outputId": "cc76422d-dc74-4328-c47b-fffebeebd605"
      },
      "source": [
        "sales_data['cat_id'].value_counts(normalize=True)"
      ],
      "execution_count": null,
      "outputs": [
        {
          "output_type": "execute_result",
          "data": {
            "text/plain": [
              "FOODS       0.47\n",
              "HOUSEHOLD   0.34\n",
              "HOBBIES     0.19\n",
              "Name: cat_id, dtype: float64"
            ]
          },
          "metadata": {
            "tags": []
          },
          "execution_count": 11
        }
      ]
    },
    {
      "cell_type": "code",
      "metadata": {
        "colab": {
          "base_uri": "https://localhost:8080/",
          "height": 143
        },
        "id": "CNzbnYesp6Kf",
        "outputId": "5abe2673-92b3-422f-e9fb-e3b383edc6d8"
      },
      "source": [
        "sales_data['total_sales'] = sales_data[date_col].sum(axis=1)\n",
        "\n",
        "sales_data.groupby('state_id').agg({\"total_sales\":\"sum\"}).reset_index()"
      ],
      "execution_count": null,
      "outputs": [
        {
          "output_type": "execute_result",
          "data": {
            "text/html": [
              "<div>\n",
              "<style scoped>\n",
              "    .dataframe tbody tr th:only-of-type {\n",
              "        vertical-align: middle;\n",
              "    }\n",
              "\n",
              "    .dataframe tbody tr th {\n",
              "        vertical-align: top;\n",
              "    }\n",
              "\n",
              "    .dataframe thead th {\n",
              "        text-align: right;\n",
              "    }\n",
              "</style>\n",
              "<table border=\"1\" class=\"dataframe\">\n",
              "  <thead>\n",
              "    <tr style=\"text-align: right;\">\n",
              "      <th></th>\n",
              "      <th>state_id</th>\n",
              "      <th>total_sales</th>\n",
              "    </tr>\n",
              "  </thead>\n",
              "  <tbody>\n",
              "    <tr>\n",
              "      <th>0</th>\n",
              "      <td>CA</td>\n",
              "      <td>28675547</td>\n",
              "    </tr>\n",
              "    <tr>\n",
              "      <th>1</th>\n",
              "      <td>TX</td>\n",
              "      <td>18899006</td>\n",
              "    </tr>\n",
              "    <tr>\n",
              "      <th>2</th>\n",
              "      <td>WI</td>\n",
              "      <td>18120856</td>\n",
              "    </tr>\n",
              "  </tbody>\n",
              "</table>\n",
              "</div>"
            ],
            "text/plain": [
              "  state_id  total_sales\n",
              "0       CA     28675547\n",
              "1       TX     18899006\n",
              "2       WI     18120856"
            ]
          },
          "metadata": {
            "tags": []
          },
          "execution_count": 12
        }
      ]
    },
    {
      "cell_type": "code",
      "metadata": {
        "colab": {
          "base_uri": "https://localhost:8080/",
          "height": 289
        },
        "id": "B0KKL01oqOwt",
        "outputId": "a1b8a5ca-05d4-4db0-94c4-8744d7e64dc6"
      },
      "source": [
        "state_wise_sales_data = sales_data.groupby('state_id').agg({\"total_sales\":\"sum\"}) / sales_data['total_sales'].sum() * 100\n",
        "state_wise_sales_data = state_wise_sales_data.reset_index()\n",
        "\n",
        "plt.figure(figsize=(16,4))\n",
        "\n",
        "ax = sns.barplot(data=state_wise_sales_data, x='state_id', y='total_sales')\n",
        "ax.set_xlabel('')\n",
        "ax.set_ylabel('Total de vendas (%)')\n",
        "ax.set_title('Total de vendas por estado', fontsize=16)\n",
        "ax.set_ylim(0, 50)\n",
        "anotacao(ax)\n",
        "\n",
        "plt.show()"
      ],
      "execution_count": null,
      "outputs": [
        {
          "output_type": "display_data",
          "data": {
            "image/png": "[encoded data removed]",
            "text/plain": [
              "<Figure size 1152x288 with 1 Axes>"
            ]
          },
          "metadata": {
            "tags": []
          }
        }
      ]
    },
    {
      "cell_type": "code",
      "metadata": {
        "colab": {
          "base_uri": "https://localhost:8080/",
          "height": 289
        },
        "id": "oI-cCF9VwuGi",
        "outputId": "f4d88118-c23f-4e17-927e-419466b1cbe1"
      },
      "source": [
        "store_wise_sales_data = sales_data.groupby('store_id').agg({\"total_sales\":\"sum\"}) / sales_data.total_sales.sum() * 100\n",
        "store_wise_sales_data = store_wise_sales_data.reset_index()\n",
        "\n",
        "plt.figure(figsize=(16,4))\n",
        "\n",
        "ax = sns.barplot(data=store_wise_sales_data, x='store_id', y='total_sales')\n",
        "ax.set_xlabel('')\n",
        "ax.set_ylabel('Total de vendas (%)')\n",
        "ax.set_title('Total de vendas por loja', fontsize=16)\n",
        "ax.set_ylim(0, 25)\n",
        "anotacao(ax)\n",
        "\n",
        "plt.show()"
      ],
      "execution_count": null,
      "outputs": [
        {
          "output_type": "display_data",
          "data": {
            "image/png": "[encoded data removed]",
            "text/plain": [
              "<Figure size 1152x288 with 1 Axes>"
            ]
          },
          "metadata": {
            "tags": []
          }
        }
      ]
    },
    {
      "cell_type": "code",
      "metadata": {
        "colab": {
          "base_uri": "https://localhost:8080/",
          "height": 289
        },
        "id": "H7w5REiQzXs2",
        "outputId": "cbdd23a6-f508-441e-846b-0c082974e11a"
      },
      "source": [
        "cat_wise_sales_data = sales_data.groupby('cat_id').agg({\"total_sales\":\"sum\"}) / sales_data.total_sales.sum() * 100\n",
        "cat_wise_sales_data = cat_wise_sales_data.reset_index()\n",
        "\n",
        "plt.figure(figsize=(16,4))\n",
        "\n",
        "ax = sns.barplot(data=cat_wise_sales_data, x='cat_id', y='total_sales')\n",
        "ax.set_xlabel('')\n",
        "ax.set_ylabel('Total de vendas (%)')\n",
        "ax.set_title('Total de vendas por categoria', fontsize=16)\n",
        "ax.set_ylim(0, 80)\n",
        "anotacao(ax)\n",
        "\n",
        "plt.show()"
      ],
      "execution_count": null,
      "outputs": [
        {
          "output_type": "display_data",
          "data": {
            "image/png": "[encoded data removed]",
            "text/plain": [
              "<Figure size 1152x288 with 1 Axes>"
            ]
          },
          "metadata": {
            "tags": []
          }
        }
      ]
    }
  ]
}